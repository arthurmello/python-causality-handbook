{
 "cells": [
  {
   "cell_type": "markdown",
   "metadata": {},
   "source": [
    "# 01 - Introduction à la Causalité\n",
    "\n",
    "## Pourquoi s'en soucier?\n",
    "\n",
    "Tout d'abord, vous vous demandez peut-être : qu'est-ce que cela m'apporte ? Voici ce qu'il en est :\n",
    "\n",
    "## La Data Science n'est Plus ce Qu'elle Était (ou Elle l'est Enfin)\n",
    "\n",
    "Le métier de Data Scientist a été qualifié par la Harvard Business Review de [métier le plus sexy du 21e siècle](https://hbr.org/2012/10/data-scientist-the-sexiest-job-of-the-21st-century). Ce n'était pas une déclaration en l'air. Depuis une décennie, le Data Scientist est sous les feux de la rampe. Les experts en IA avaient [des salaires rivalisant avec ceux des superstars du sport](https://www.economist.com/business/2016/04/02/million-dollar-babies). À la recherche de gloire et de fortune, des centaines de jeunes professionnels se sont lancés dans ce qui semblait être une ruée vers l'or frénétique pour obtenir le titre de Data Scientist le plus rapidement possible. Des industries entières ont émergé autour du battage médiatique. Des méthodes d'enseignement miraculeuses pouvaient faire de vous un Data Scientist sans nécessiter de regarder une seule formule mathématique. Des consultants promettaient des millions si votre entreprise pouvait débloquer le potentiel des données. L'IA, ou le machine learning, a été qualifiée de nouvelle électricité et les données, de nouveau pétrole.\n",
    "\n",
    "Pendant tout ce temps, les économistes tentaient de répondre à la véritable impact de l'éducation sur les revenus, les biostatisticiens essayaient de comprendre si les graisses saturées augmentaient le risque de crise cardiaque, et les psychologues tentaient de déterminer si les paroles d'affirmation conduisaient vraiment à un mariage plus heureux. Pendant ce temps, nous avons oublié ceux qui faisaient de la \"science à l'ancienne\" avec des données depuis toujours. Pour être tout à fait honnête, la data science n'est pas un domaine récent. Nous en sommes simplement conscients maintenant grâce à la quantité massive de marketing gratuit que les médias ont fournie.\n",
    "\n",
    "Pour utiliser une analogie de Jim Collins, imaginez-vous versant une tasse glacée de votre bière préférée. Si vous faites cela correctement, la plupart des tasses seront de la bière, mais il y aura une couche de mousse d'un doigt d'épaisseur sur le dessus. Cette tasse est comme la data science.\n",
    "\n",
    "1. C'est la bière. Les fondations statistiques, la curiosité scientifique, la passion pour les problèmes complexes. Tout cela s'est avéré très précieux pendant des centaines d'années.\n",
    "2. C'est la mousse. Les trucs gonflés construits sur des attentes irréalistes qui finiront par disparaître.\n",
    "\n",
    "Cette mousse pourrait retomber plus vite que vous ne le pensez. Comme le dit The Economist :\n",
    "\n",
    "> Les mêmes consultants qui prédisent que l'IA aura un impact mondial rapportent également que les managers réels dans des entreprises réelles trouvent difficile de mettre en œuvre l'IA, et que l'enthousiasme pour celle-ci se refroidit. Svetlana Sicular de Gartner, une société de recherche, affirme que 2020 pourrait être l'année où l'IA tombe dans la pente descendante du \"cycle de battage\" bien connu de son entreprise. Les investisseurs commencent à se réveiller face aux effets de mode : une enquête de MMC, un fonds de capital-risque, a révélé que 40 % des startups européennes en IA ne semblaient pas utiliser l'IA du tout.\n",
    "\n",
    "Que devons-nous faire, en tant que Data Scientists - ou mieux encore, en tant que \"simples\" scientifiques - pendant toute cette frénésie ? Si vous êtes intelligent, vous apprendrez à ignorer la mousse pour commencer. Nous sommes là pour la bière. Les mathématiques et les statistiques ont été utiles depuis toujours, et il est peu probable que cela s'arrête maintenant. Deuxièmement, apprenez ce qui rend votre travail précieux et important, pas le dernier outil brillant que personne n'a encore compris comment utiliser.\n",
    "\n",
    "Enfin, souvenez-vous qu'il n'y a pas de raccourcis. Les connaissances en mathématiques et en statistiques sont précieuses précisément parce qu'elles sont difficiles à acquérir. Si tout le monde pouvait le faire, l'excès d'offre ferait baisser son prix. Alors **endurcissez-vous** ! Apprenez-les aussi bien que vous le pouvez. Et pourquoi pas ? Amusez-vous en cours de route alors que nous nous embarquons dans cette quête réservée **aux Braves et aux Véritables**.\n",
    "\n",
    "![img](./data/img/intro/tougher-up-cupcake1.jpg)\n",
    "\n",
    "## Répondre à un Autre Type de Question\n",
    "\n",
    "Le machine learning est actuellement très bon pour répondre à des questions de type prédictif. Comme l'ont dit Ajay Agrawal, Joshua Gans et Avi Goldfarb dans le livre *Prediction Machines*, \"la nouvelle vague d'intelligence artificielle ne nous apporte pas vraiment l'intelligence mais plutôt un composant critique de l'intelligence - la prédiction\". Nous pouvons faire toutes sortes de choses merveilleuses avec le machine learning. La seule exigence est que nous formulions nos problèmes comme des problèmes de prédiction. Vous voulez traduire de l'anglais au portugais ? Alors construisez un modèle ML qui prédit des phrases en portugais lorsqu'on lui donne des phrases en anglais. Vous voulez reconnaître des visages ? Alors créez un modèle ML qui prédit la présence d'un visage dans une sous-section d'une image. Vous voulez construire une voiture autonome ? Alors faites un modèle ML pour prédire la direction du volant et la pression sur les freins et l'accélérateur lorsqu'on lui présente des images et des capteurs provenant des environs d'une voiture.\n",
    "\n",
    "Cependant, le ML n'est pas une panacée. Il peut accomplir des merveilles dans des limites rigides et échouer lamentablement si ses données dévient un peu de ce à quoi le modèle est habitué. Pour donner un autre exemple tiré de *Prediction Machines*, \"dans de nombreuses industries, les bas prix sont associés à de faibles ventes. Par exemple, dans l'industrie hôtelière, les prix sont bas hors saison touristique, et les prix sont élevés lorsque la demande est la plus forte et que les hôtels sont complets. Étant donné ces données, une prédiction naïve pourrait suggérer qu'augmenter le prix conduirait à vendre plus de chambres.\"\n",
    "\n",
    "Le ML est notoirement mauvais pour ce type de problème de causalité inverse. Ils nous obligent à répondre à des questions \"et si\", que les économistes appellent contre-factuelles. Que se passerait-il si j'utilisais un autre prix à la place de ce prix que je demande actuellement pour ma marchandise ? Que se passerait-il si je faisais un régime faible en sucre au lieu de ce régime faible en graisses que je suis actuellement ? Si vous travaillez dans une banque, octroyant des crédits, vous devrez comprendre comment changer la ligne de clients modifie vos revenus. Ou, si vous travaillez dans le gouvernement local, on pourrait vous demander de trouver comment améliorer le système éducatif. Devriez-vous donner des tablettes à chaque enfant parce que l'ère de la connaissance numérique vous le dit ? Ou devriez-vous construire une bibliothèque à l'ancienne ?\n",
    "\n",
    "Au cœur de ces questions, il y a une enquête causale dont nous souhaitons connaître la réponse. Les questions causales imprègnent les problèmes quotidiens, comme trouver comment augmenter les ventes. Cependant, elles jouent également un rôle essentiel dans les dilemmes très personnels et chers à nos cœurs : dois-je aller dans une école coûteuse pour réussir dans la vie (l'éducation cause-t-elle des revenus) ? L'immigration réduit-elle mes chances de trouver un emploi (l'immigration cause-t-elle une augmentation du chômage) ? Les transferts d'argent aux pauvres réduisent-ils le taux de criminalité ? Peu importe le domaine dans lequel vous vous trouvez. Il est très probable que vous avez eu ou aurez à répondre à un certain type de question causale. Malheureusement pour le ML, nous ne pouvons pas compter sur des prédictions de type corrélation pour les aborder.\n",
    "\n",
    "Répondre à ce type de question est plus difficile que la plupart des gens ne l'apprécient. Vos parents vous ont probablement répété que \"l'association n'est pas la causalité\", \"l'association n'est pas la causalité\". Mais en fait, expliquer pourquoi c'est le cas est un peu plus compliqué. C'est ce que cette introduction à l'inférence causale va aborder. Quant au reste de ce livre, il sera consacré à **comprendre comment faire en sorte que l'association soit la causalité**.\n",
    "\n",
    "## Quand l'Association EST Causalité\n",
    "\n",
    "Intuitivement, nous savons pourquoi l'association n'est pas la causalité. Si quelqu'un vous dit que les écoles qui donnent des tablettes à leurs élèves obtiennent de meilleurs résultats que celles qui n'en donnent pas, vous pouvez rapidement signaler qu'il est probablement le cas que ces écoles avec des tablettes sont plus riches. En tant que telles, elles feraient mieux que la moyenne même sans les tablettes. À cause de cela, nous ne pouvons pas conclure que donner des tablettes aux enfants pendant les cours entraînera une augmentation de leurs performances académiques. Nous pouvons seulement dire que les tablettes à l'école sont associées à une haute performance académique, mesurée par l'ENEM (une sorte de BAC au Brésil, qui signifie Examen National du Lycée) :"
   ]
  },
  {
   "cell_type": "code",
   "execution_count": 1,
   "metadata": {
    "ExecuteTime": {
     "end_time": "2023-03-15T11:20:11.358578Z",
     "start_time": "2023-03-15T11:20:09.259840Z"
    },
    "jupyter": {
     "outputs_hidden": true
    },
    "tags": [
     "hide-input"
    ]
   },
   "outputs": [],
   "source": [
    "import pandas as pd\n",
    "import numpy as np\n",
    "from scipy.special import expit\n",
    "import seaborn as sns\n",
    "from matplotlib import pyplot as plt\n",
    "from matplotlib import style\n",
    "\n",
    "style.use(\"fivethirtyeight\")\n",
    "\n",
    "np.random.seed(123)\n",
    "n = 100\n",
    "tuition = np.random.normal(1000, 300, n).round()\n",
    "tablet = np.random.binomial(1, expit((tuition - tuition.mean()) / tuition.std())).astype(bool)\n",
    "enem_score = np.random.normal(200 - 50 * tablet + 0.7 * tuition, 200)\n",
    "enem_score = (enem_score - enem_score.min()) / enem_score.max()\n",
    "enem_score *= 1000\n",
    "\n",
    "data = pd.DataFrame(dict(enem_score=enem_score, Tuition=tuition, Tablet=tablet))"
   ]
  },
  {
   "cell_type": "code",
   "execution_count": 2,
   "metadata": {
    "ExecuteTime": {
     "end_time": "2023-03-15T11:20:11.468751Z",
     "start_time": "2023-03-15T11:20:11.360175Z"
    },
    "tags": [
     "hide-input"
    ]
   },
   "outputs": [
    {
     "data": {
      "image/png": "[encoded data removed]",
      "text/plain": [
       "<Figure size 432x576 with 1 Axes>"
      ]
     },
     "metadata": {
      "needs_background": "light"
     },
     "output_type": "display_data"
    }
   ],
   "source": [
    "plt.figure(figsize=(6,8))\n",
    "sns.boxplot(y=\"enem_score\", x=\"Tablet\", data=data).set_title('ENEM score by Tablet in Class')\n",
    "plt.show()"
   ]
  },
  {
   "cell_type": "markdown",
   "metadata": {},
   "source": [
    "Pour aller au-delà de la simple intuition, établissons d'abord une notation. Ce sera notre langage quotidien pour parler de causalité. Considérez-le comme la langue commune que nous utiliserons pour identifier d'autres braves et véritables guerriers causals, et qui composera notre cri dans les nombreuses batailles à venir.\n",
    "\n",
    "Appelons $T_i$ la prise de traitement pour l'unité i.\n",
    "\n",
    "$\n",
    "T_i=\\begin{cases}\n",
    "1 \\ \\text{si l'unité i a reçu le traitement}\\\\\n",
    "0 \\ \\text{sinon}\\\\\n",
    "\\end{cases}\n",
    "$\n",
    "\n",
    "Le traitement ici n'a pas besoin d'être un médicament ou quelque chose du domaine médical. Au lieu de cela, c'est juste un terme que nous utiliserons pour désigner une intervention dont nous voulons connaître l'effet. Dans notre cas, le traitement consiste à donner des tablettes aux étudiants. À titre de remarque, vous pourriez parfois voir $D$ au lieu de $T$ pour désigner le traitement.\n",
    "\n",
    "Maintenant, appelons $Y_i$ la variable de résultat observée pour l'unité i.\n",
    "\n",
    "Le résultat est notre variable d'intérêt. Nous voulons savoir si le traitement a une influence sur celle-ci. Dans notre exemple des tablettes, ce serait la performance académique.\n",
    "\n",
    "C'est ici que les choses deviennent intéressantes. Le **problème fondamental de l'inférence causale** est que nous ne pouvons jamais observer la même unité avec et sans traitement. C'est comme si nous avions deux chemins divergents et que nous ne pouvions savoir ce qui se trouve devant que sur celui que nous prenons. Comme dans le poème de Robert Frost :\n",
    "\n",
    ">Deux chemins divergeaient dans un bois jaune,  \n",
    "Et désolé de ne pouvoir prendre les deux  \n",
    "Et étant un seul voyageur, longtemps je me suis tenu  \n",
    "Et j'ai regardé l'un aussi loin que je pouvais  \n",
    "Jusqu'à ce qu'il se courbe dans les sous-bois ;\n",
    "\n",
    "Pour comprendre cela, nous parlerons beaucoup en termes de **résultats potentiels**. Ils sont potentiels parce qu'ils ne se sont pas réellement produits. Au lieu de cela, ils désignent **ce qui se serait passé** dans le cas où un traitement aurait été pris. Nous appelons parfois le résultat potentiel qui s'est produit, factuel, et celui qui ne s'est pas produit, contrefactuel.\n",
    "\n",
    "En ce qui concerne la notation, nous utilisons un indice supplémentaire :\n",
    "\n",
    "$Y_{0i}$ est le résultat potentiel pour l'unité i sans le traitement.\n",
    "\n",
    "$Y_{1i}$ est le résultat potentiel pour **la même** unité i avec le traitement.\n",
    "\n",
    "Parfois, vous pourriez voir les résultats potentiels représentés comme des fonctions $Y_i(t)$, alors soyez vigilant. $Y_{0i}$ pourrait être $Y_i(0)$ et $Y_{1i}$ pourrait être $Y_i(1)$. Ici, nous utiliserons la notation avec indices la plupart du temps.\n",
    "\n",
    "![img](./data/img/intro/potential_outcomes.png)\n",
    "\n",
    "Pour revenir à notre exemple, $Y_{1i}$ est la performance académique de l'étudiant i s'il ou elle est dans une classe avec des tablettes. Que ce soit le cas ou non, cela n'a pas d'importance pour $Y_{1i}$. C'est le même résultat dans tous les cas. Si l'étudiant i obtient la tablette, nous pouvons observer $Y_{1i}$. Sinon, nous pouvons observer $Y_{0i}$. Notez que dans ce dernier cas, $Y_{1i}$ est toujours défini, nous ne pouvons tout simplement pas le voir. Dans ce cas, il s'agit d'un résultat potentiel contrefactuel.\n",
    "\n",
    "Avec les résultats potentiels, nous pouvons définir l'effet du traitement individuel :\n",
    "\n",
    "$Y_{1i} - Y_{0i}$\n",
    "\n",
    "Bien sûr, en raison du problème fondamental de l'inférence causale, nous ne pouvons jamais connaître l'effet du traitement individuel car nous n'observons qu'un des résultats potentiels. Pour l'instant, concentrons-nous sur quelque chose de plus facile que d'estimer l'effet du traitement individuel. Au lieu de cela, concentrons-nous sur **l'effet moyen du traitement**, qui est défini comme suit :\n",
    "\n",
    "$ATE = E[Y_1 - Y_0]$\n",
    "\n",
    "où `E[...]` est la valeur attendue. Une autre quantité plus facile à estimer est **l'effet moyen du traitement sur les traités** :\n",
    "\n",
    "$ATT = E[Y_1 - Y_0 | T=1]$\n",
    "\n",
    "Je sais que nous ne pouvons pas voir les deux résultats potentiels, mais juste pour l'argument, supposons que nous le pouvions. Prétendons que la divinité de l'inférence causale est satisfaite des nombreuses batailles statistiques que nous avons menées et nous a récompensés de pouvoirs divins pour voir les résultats alternatifs potentiels. Avec ce pouvoir, disons que nous collectons des données sur 4 écoles. Nous savons si elles ont donné des tablettes à leurs étudiants et leur score à certains tests académiques annuels. Ici, les tablettes sont le traitement, donc $T=1$ si l'école fournit des tablettes à ses élèves. $Y$ sera le score au test."
   ]
  },
  {
   "cell_type": "code",
   "execution_count": 3,
   "metadata": {
    "ExecuteTime": {
     "end_time": "2023-03-15T11:20:11.478665Z",
     "start_time": "2023-03-15T11:20:11.470021Z"
    },
    "tags": [
     "hide-input"
    ]
   },
   "outputs": [
    {
     "data": {
      "text/html": [
       "<div>\n",
       "<style scoped>\n",
       "    .dataframe tbody tr th:only-of-type {\n",
       "        vertical-align: middle;\n",
       "    }\n",
       "\n",
       "    .dataframe tbody tr th {\n",
       "        vertical-align: top;\n",
       "    }\n",
       "\n",
       "    .dataframe thead th {\n",
       "        text-align: right;\n",
       "    }\n",
       "</style>\n",
       "<table border=\"1\" class=\"dataframe\">\n",
       "  <thead>\n",
       "    <tr style=\"text-align: right;\">\n",
       "      <th></th>\n",
       "      <th>i</th>\n",
       "      <th>Y0</th>\n",
       "      <th>Y1</th>\n",
       "      <th>T</th>\n",
       "      <th>Y</th>\n",
       "      <th>TE</th>\n",
       "    </tr>\n",
       "  </thead>\n",
       "  <tbody>\n",
       "    <tr>\n",
       "      <th>0</th>\n",
       "      <td>1</td>\n",
       "      <td>500</td>\n",
       "      <td>450</td>\n",
       "      <td>0</td>\n",
       "      <td>500</td>\n",
       "      <td>-50</td>\n",
       "    </tr>\n",
       "    <tr>\n",
       "      <th>1</th>\n",
       "      <td>2</td>\n",
       "      <td>600</td>\n",
       "      <td>600</td>\n",
       "      <td>0</td>\n",
       "      <td>600</td>\n",
       "      <td>0</td>\n",
       "    </tr>\n",
       "    <tr>\n",
       "      <th>2</th>\n",
       "      <td>3</td>\n",
       "      <td>800</td>\n",
       "      <td>600</td>\n",
       "      <td>1</td>\n",
       "      <td>600</td>\n",
       "      <td>-200</td>\n",
       "    </tr>\n",
       "    <tr>\n",
       "      <th>3</th>\n",
       "      <td>4</td>\n",
       "      <td>700</td>\n",
       "      <td>750</td>\n",
       "      <td>1</td>\n",
       "      <td>750</td>\n",
       "      <td>50</td>\n",
       "    </tr>\n",
       "  </tbody>\n",
       "</table>\n",
       "</div>"
      ],
      "text/plain": [
       "   i   Y0   Y1  T    Y   TE\n",
       "0  1  500  450  0  500  -50\n",
       "1  2  600  600  0  600    0\n",
       "2  3  800  600  1  600 -200\n",
       "3  4  700  750  1  750   50"
      ]
     },
     "execution_count": 3,
     "metadata": {},
     "output_type": "execute_result"
    }
   ],
   "source": [
    "pd.DataFrame(dict(\n",
    "    i= [1,2,3,4],\n",
    "    Y0=[500,600,800,700],\n",
    "    Y1=[450,600,600,750],\n",
    "    T= [0,0,1,1],\n",
    "    Y= [500,600,600,750],\n",
    "    TE=[-50,0,-200,50],\n",
    "))"
   ]
  },
  {
   "cell_type": "markdown",
   "metadata": {},
   "source": [
    "Le $ATE$ ici serait la moyenne de la dernière colonne, c'est-à-dire de l'effet du traitement :\n",
    "\n",
    "$ATE=(-50 + 0 - 200 + 50)/4 = -50$\n",
    "\n",
    "Cela signifierait que les tablettes ont réduit la performance académique des étudiants, en moyenne, de 50 points. Le $ATT$ ici serait la moyenne de la dernière colonne lorsque $T=1$ :\n",
    "\n",
    "$ATT=(- 200 + 50)/2 = -75$\n",
    "\n",
    "Cela signifie que, pour les écoles qui ont été traitées, les tablettes ont réduit la performance académique des étudiants, en moyenne, de 75 points. Bien sûr, nous ne pouvons jamais savoir cela. En réalité, le tableau ci-dessus ressemblerait à ceci :"
   ]
  },
  {
   "cell_type": "code",
   "execution_count": 4,
   "metadata": {
    "ExecuteTime": {
     "end_time": "2023-03-15T11:20:11.488711Z",
     "start_time": "2023-03-15T11:20:11.480950Z"
    },
    "tags": [
     "hide-input"
    ]
   },
   "outputs": [
    {
     "data": {
      "text/html": [
       "<div>\n",
       "<style scoped>\n",
       "    .dataframe tbody tr th:only-of-type {\n",
       "        vertical-align: middle;\n",
       "    }\n",
       "\n",
       "    .dataframe tbody tr th {\n",
       "        vertical-align: top;\n",
       "    }\n",
       "\n",
       "    .dataframe thead th {\n",
       "        text-align: right;\n",
       "    }\n",
       "</style>\n",
       "<table border=\"1\" class=\"dataframe\">\n",
       "  <thead>\n",
       "    <tr style=\"text-align: right;\">\n",
       "      <th></th>\n",
       "      <th>i</th>\n",
       "      <th>Y0</th>\n",
       "      <th>Y1</th>\n",
       "      <th>T</th>\n",
       "      <th>Y</th>\n",
       "      <th>TE</th>\n",
       "    </tr>\n",
       "  </thead>\n",
       "  <tbody>\n",
       "    <tr>\n",
       "      <th>0</th>\n",
       "      <td>1</td>\n",
       "      <td>500.0</td>\n",
       "      <td>NaN</td>\n",
       "      <td>0</td>\n",
       "      <td>500</td>\n",
       "      <td>NaN</td>\n",
       "    </tr>\n",
       "    <tr>\n",
       "      <th>1</th>\n",
       "      <td>2</td>\n",
       "      <td>600.0</td>\n",
       "      <td>NaN</td>\n",
       "      <td>0</td>\n",
       "      <td>600</td>\n",
       "      <td>NaN</td>\n",
       "    </tr>\n",
       "    <tr>\n",
       "      <th>2</th>\n",
       "      <td>3</td>\n",
       "      <td>NaN</td>\n",
       "      <td>600.0</td>\n",
       "      <td>1</td>\n",
       "      <td>600</td>\n",
       "      <td>NaN</td>\n",
       "    </tr>\n",
       "    <tr>\n",
       "      <th>3</th>\n",
       "      <td>4</td>\n",
       "      <td>NaN</td>\n",
       "      <td>750.0</td>\n",
       "      <td>1</td>\n",
       "      <td>750</td>\n",
       "      <td>NaN</td>\n",
       "    </tr>\n",
       "  </tbody>\n",
       "</table>\n",
       "</div>"
      ],
      "text/plain": [
       "   i     Y0     Y1  T    Y  TE\n",
       "0  1  500.0    NaN  0  500 NaN\n",
       "1  2  600.0    NaN  0  600 NaN\n",
       "2  3    NaN  600.0  1  600 NaN\n",
       "3  4    NaN  750.0  1  750 NaN"
      ]
     },
     "execution_count": 4,
     "metadata": {},
     "output_type": "execute_result"
    }
   ],
   "source": [
    "pd.DataFrame(dict(\n",
    "    i= [1,2,3,4],\n",
    "    Y0=[500,600,np.nan,np.nan],\n",
    "    Y1=[np.nan,np.nan,600,750],\n",
    "    T= [0,0,1,1],\n",
    "    Y= [500,600,600,750],\n",
    "    TE=[np.nan,np.nan,np.nan,np.nan],\n",
    "))"
   ]
  },
  {
   "cell_type": "markdown",
   "metadata": {},
   "source": [
    "Vous pourriez dire que ce n'est sûrement pas idéal, mais ne puis-je pas encore prendre la moyenne des traités et la comparer à la moyenne des non-traités ? En d'autres termes, ne puis-je pas simplement faire $ATE=(600+750)/2  - (500 + 600)/2  = 125$ ? Eh bien, non ! Remarquez à quel point les résultats sont différents. Vous venez de commettre le péché le plus grave en confondant association et causalité. Pour comprendre pourquoi, examinons le principal ennemi de l'inférence causale.\n",
    "\n",
    "## Biais\n",
    "\n",
    "Le biais est ce qui rend l'association différente de la causalité. Heureusement, cela peut être facilement compris avec notre intuition. Revenons à notre exemple des tablettes en classe. Lorsqu'on est confronté à l'affirmation selon laquelle les écoles qui donnent des tablettes à leurs élèves obtiennent de meilleurs scores aux tests, nous pouvons la réfuter en disant que ces écoles obtiendront probablement de meilleurs scores aux tests de toute façon, même sans les tablettes. C'est parce qu'elles ont probablement plus d'argent que les autres écoles ; elles peuvent donc payer de meilleurs enseignants, se permettre de meilleures salles de classe, etc. En d'autres termes, il est probable que les écoles traitées (avec tablettes) ne sont pas comparables aux écoles non traitées.\n",
    "\n",
    "Utiliser la notation des résultats potentiels revient à dire que $Y_0$ des traités est différent de $Y_0$ des non-traités. Rappelez-vous que le $Y_0$ des traités **est contrefactuel**. Nous ne pouvons pas l'observer, mais nous pouvons raisonner à son sujet. Dans ce cas particulier, nous pouvons même tirer parti de notre compréhension du fonctionnement du monde pour aller encore plus loin. Nous pouvons dire que, probablement, $Y_0$ des traités est plus élevé que $Y_0$ des écoles non traitées. C'est parce que les écoles qui peuvent se permettre de donner des tablettes à leurs élèves peuvent également se permettre d'autres facteurs qui contribuent à de meilleurs scores aux tests. Laissez cela pénétrer un moment. Il faut un certain temps pour s'habituer à parler de résultats potentiels. Relisez ce paragraphe et assurez-vous de le comprendre.\n",
    "\n",
    "Avec cela en tête, nous pouvons montrer avec des mathématiques élémentaires pourquoi l'association n'est pas la causalité. L'association est mesurée par $E[Y|T=1] - E[Y|T=0]$. Dans notre exemple, il s'agit du score moyen aux tests pour les écoles avec tablettes moins le score moyen aux tests pour celles sans tablettes. D'autre part, la causalité est mesurée par $E[Y_1 - Y_0]$.\n",
    "\n",
    "Prenons la mesure de l'association et remplaçons les résultats observés par les résultats potentiels pour voir comment ils sont liés. Pour les traités, le résultat observé est $Y_1$. Pour les non-traités, le résultat observé est $Y_0$.\n",
    "\n",
    "$\n",
    "E[Y|T=1] - E[Y|T=0] = E[Y_1|T=1] - E[Y_0|T=0]\n",
    "$\n",
    "\n",
    "Maintenant, ajoutons et soustrayons $E[Y_0|T=1]$. Il s'agit d'un résultat contrefactuel. Il indique quel aurait été le résultat des traités, s'ils n'avaient pas reçu le traitement.\n",
    "\n",
    "$\n",
    "E[Y|T=1] - E[Y|T=0] = E[Y_1|T=1] - E[Y_0|T=0] + E[Y_0|T=1] - E[Y_0|T=1]\n",
    "$\n",
    "\n",
    "Enfin, réorganisons les termes, fusionnons certaines attentes, et voilà :\n",
    "\n",
    "$\n",
    "E[Y|T=1] - E[Y|T=0] = \\underbrace{E[Y_1 - Y_0|T=1]}_{ATT} + \\underbrace{\\{ E[Y_0|T=1] - E[Y_0|T=0] \\}}_{BIAS}\n",
    "$\n",
    "\n",
    "Ce simple morceau de mathématiques englobe tous les problèmes que nous rencontrerons dans les questions causales. Je ne saurais trop insister sur l'importance de comprendre chaque aspect de cela. Si vous êtes jamais obligé de vous tatouer quelque chose sur le bras, cette équation devrait être une bonne candidate. C'est quelque chose à chérir et à comprendre ce qu'elle nous dit, comme un texte sacré pouvant être interprété de 100 façons différentes. En fait, examinons-la de plus près. Décomposons-la en certaines de ses implications. Premièrement, cette équation explique pourquoi l'association n'est pas la causalité. Comme nous pouvons le voir, l'association est égale à l'effet du traitement sur les traités plus un terme de biais. **Le biais est donné par la différence entre le groupe traité et le groupe de contrôle avant le traitement, au cas où aucun d'eux n'aurait reçu le traitement**. Nous pouvons maintenant dire précisément pourquoi nous sommes méfiants lorsque quelqu'un nous dit que les tablettes en classe améliorent les performances académiques. Nous pensons que, dans cet exemple, $E[Y_0|T=0] < E[Y_0|T=1]$, c'est-à-dire que les écoles qui peuvent se permettre de donner des tablettes à leurs élèves sont meilleures que celles qui ne le peuvent pas, **indépendamment du traitement par les tablettes**.\n",
    "\n",
    "Pourquoi cela se produit-il ? Nous en parlerons plus une fois que nous entrerons dans la confusion, mais pour l'instant, vous pouvez penser que le biais survient parce que de nombreuses choses que nous ne pouvons pas contrôler changent en même temps que le traitement. En conséquence, les écoles traitées et non traitées ne diffèrent pas seulement par les tablettes. Elles diffèrent également par le coût de la scolarité, l'emplacement, les enseignants...\n",
    "Pour que nous puissions dire que les tablettes en classe augmentent les performances académiques, il faudrait que les écoles avec et sans elles soient, en moyenne, similaires les unes aux autres."
   ]
  },
  {
   "cell_type": "code",
   "execution_count": 5,
   "metadata": {
    "ExecuteTime": {
     "end_time": "2023-03-15T11:20:11.602399Z",
     "start_time": "2023-03-15T11:20:11.490391Z"
    },
    "tags": [
     "hide-input"
    ]
   },
   "outputs": [
    {
     "data": {
      "image/png": "[encoded data removed]",
      "text/plain": [
       "<Figure size 720x432 with 1 Axes>"
      ]
     },
     "metadata": {
      "needs_background": "light"
     },
     "output_type": "display_data"
    }
   ],
   "source": [
    "plt.figure(figsize=(10,6))\n",
    "sns.scatterplot(x=\"Tuition\", y=\"enem_score\", hue=\"Tablet\", data=data, s=70).set_title('ENEM score by Tuition Cost')\n",
    "plt.show()"
   ]
  },
  {
   "cell_type": "markdown",
   "metadata": {},
   "source": [
    "Maintenant que nous comprenons le problème, examinons la solution. Nous pouvons également dire ce qui serait nécessaire pour que l'association soit égale à la causalité. **Si $E[Y_0|T=0] = E[Y_0|T=1]$, alors, l'association EST LA CAUSALITÉ !** Comprendre cela ne consiste pas seulement à mémoriser l'équation. Il y a un argument intuitif fort ici. Dire que $E[Y_0|T=0] = E[Y_0|T=1]$ revient à dire que le groupe de traitement et le groupe de contrôle sont comparables avant le traitement. Autrement dit, lorsque les traités n'ont pas été traités, si nous pouvions observer leur $Y_0$, leur résultat serait le même que celui des non-traités. Mathématiquement, le terme de biais disparaîtrait :\n",
    "\n",
    "$\n",
    "E[Y|T=1] - E[Y|T=0] = E[Y_1 - Y_0|T=1] = ATT\n",
    "$\n",
    "\n",
    "De plus, si les traités et les non-traités ne diffèrent que par le traitement lui-même, alors $E[Y_0|T=0] = E[Y_0|T=1]$ et nous avons que l'impact causal sur les traités est le même que pour les non-traités (parce qu'ils sont très similaires).\n",
    "\n",
    "$\n",
    "\\begin{align}\n",
    "E[Y_1 - Y_0|T=1] &= E[Y_1|T=1] - E[Y_0|T=1] \\\\\n",
    "&= E[Y_1|T=1] - E[Y_0|T=0] \\\\\n",
    "&= E[Y|T=1] - E[Y|T=0]\n",
    "\\end{align}\n",
    "$\n",
    "\n",
    "Dans ce cas, la **différence de moyennes DEVIENT l'effet causal** :\n",
    "\n",
    "$\n",
    "E[Y|T=1] - E[Y|T=0] = ATT\n",
    "$\n",
    "\n",
    "De plus, si les traités et les non-traités ne diffèrent que par le traitement lui-même, nous avons également $E[Y_1|T=0] = E[Y_1|T=1]$, c'est-à-dire que nous nous assurons que les groupes traités et de contrôle répondent de manière similaire au traitement. Maintenant, en plus d'être interchangeables avant le traitement, les traités et les non-traités sont également interchangeables **après le traitement**. Dans ce cas, $E[Y_1 - Y_0|T=1]=E[Y_1 - Y_0|T=0]$ et\n",
    "\n",
    "$\n",
    "E[Y|T=1] - E[Y|T=0] = ATT = ATE\n",
    "$\n",
    "\n",
    "Encore une fois, c'est tellement important que je pense qu'il vaut la peine de le répéter, cette fois avec de jolies images. Si nous faisons une simple comparaison de moyennes entre le groupe traité et le groupe non traité, voici ce que nous obtenons (les points bleus n'ont pas reçu le traitement, c'est-à-dire la tablette) :\n",
    "\n",
    "![img](./data/img/intro/anatomy1.png)\n",
    "\n",
    "Remarquez comment la différence de résultats entre les deux groupes peut avoir deux causes :\n",
    "\n",
    "1. L'effet du traitement. L'augmentation des scores aux tests est causée par le fait de donner des tablettes aux enfants.\n",
    "2. Certaines des différences dans les scores aux tests peuvent être dues aux frais de scolarité pour une meilleure éducation. Dans ce cas, les traités et les non-traités diffèrent parce que les traités ont des frais de scolarité beaucoup plus élevés. D'autres différences entre le traitement et les non-traités ne sont PAS le traitement lui-même.\n",
    "\n",
    "L'effet du traitement individuel est la différence entre le résultat de l'unité et un autre résultat théorique que la même unité aurait si elle avait reçu le traitement alternatif. L'effet réel du traitement ne peut être obtenu que si nous avons des pouvoirs divins pour observer le résultat potentiel, comme dans la figure de gauche ci-dessous. Ce sont les résultats contrefactuels et sont indiqués en couleur claire.\n",
    "\n",
    "![img](./data/img/intro/anatomy2.png)\n",
    "\n",
    "Dans le graphique de droite, nous avons représenté le biais dont nous avons parlé précédemment. Nous obtenons le biais si nous décidons que tout le monde ne reçoit pas le traitement. Dans ce cas, il ne nous reste que le résultat potentiel $T_0$. Ensuite, nous voyons comment les groupes traités et non traités diffèrent. S'ils diffèrent, quelque chose d'autre que le traitement cause la différence entre les traités et les non-traités. Cette chose est le biais et c'est ce qui masque l'effet réel du traitement.\n",
    "\n",
    "Maintenant, comparez cela à une situation hypothétique où il n'y a pas de biais. Supposons que les tablettes soient attribuées au hasard aux écoles. Dans cette situation, les écoles riches et pauvres ont les mêmes chances de recevoir le traitement. Le traitement serait bien réparti sur l'ensemble du spectre des frais de scolarité.\n",
    "\n",
    "![img](./data/img/intro/anatomy3.png)\n",
    "\n",
    "Dans ce cas, la différence de résultats entre les traités et les non-traités EST l'effet causal moyen. Cela se produit parce qu'il n'y a pas d'autre source de différence entre les traités et les non-traités autre que le traitement lui-même. Toutes les différences que nous voyons doivent lui être attribuées. Une autre façon de dire cela est qu'il n'y a pas de biais.\n",
    "\n",
    "![img](./data/img/intro/anatomy4.png)\n",
    "\n",
    "Si nous décidons que tout le monde ne reçoit pas le traitement afin que nous n'observions que les $Y_0$, nous ne trouverions aucune différence entre les groupes traités et non traités.\n",
    "\n",
    "C'est la tâche herculéenne de l'inférence causale. Il s'agit de trouver des moyens astucieux de supprimer le biais et de rendre les traités et les non-traités comparables afin que toute la différence que nous voyons ne soit que l'effet moyen du traitement. En fin de compte, l'inférence causale consiste à comprendre comment le monde fonctionne, dépouillé de toutes les illusions et mauvaises interprétations. Et maintenant que nous comprenons cela, nous pouvons avancer pour maîtriser certaines des méthodes les plus puissantes pour éliminer le biais, les armes des Braves et des Véritables, pour identifier l'effet causal.\n",
    "\n",
    "## Idées Clés\n",
    "\n",
    "Jusqu'à présent, nous avons vu que l'association n'est pas la causalité. Plus important encore, nous avons vu précisément pourquoi elle ne l'est pas et comment nous pouvons faire en sorte que l'association soit la causalité. Nous avons également introduit la notation des résultats potentiels comme un moyen de comprendre le raisonnement causal. Avec elle, nous avons vu les statistiques comme deux réalités possibles : une dans laquelle le traitement est donné et une autre dans laquelle il ne l'est pas. Mais malheureusement, nous ne pouvons mesurer qu'une seule de ces réalités, là où réside le problème fondamental de l'inférence causale.\n",
    "\n",
    "Nous verrons quelques techniques de base pour estimer l'effet causal, en commençant par la norme d'or d'un essai randomisé. Je passerai également en revue certains concepts statistiques au fur et à mesure. Je terminerai par une citation souvent utilisée dans les cours d'inférence causale, tirée d'une série de kung-fu :\n",
    "\n",
    "> 'Ce qui arrive dans la vie d'un homme est déjà écrit. Un homme doit avancer dans la vie comme son destin le veut.' -Caine  \n",
    "'Oui, mais chaque homme est libre de vivre comme il le souhaite. Bien qu'ils semblent opposés, les deux sont vrais.' -Vieil Homme\n",
    "\n",
    "## Références\n",
    "\n",
    "J'aime penser à ce livre comme un hommage à Joshua Angrist, Alberto Abadie et Christopher Walters pour leur incroyable cours d'économétrie. La plupart des idées ici sont tirées de leurs cours à l'American Economic Association. Les regarder est ce qui me maintient sain d'esprit pendant cette année difficile de 2020.\n",
    "* [Cross-Section Econometrics](https://www.aeaweb.org/conference/cont-ed/2017-webcasts)\n",
    "* [Mastering Mostly Harmless Econometrics](https://www.aeaweb.org/conference/cont-ed/2020-webcasts)\n",
    "\n",
    "J'aimerais également faire référence aux livres incroyables d'Angrist. Ils m'ont montré que l'économétrie, ou les 'Metrics' comme ils l'appellent, n'est pas seulement extrêmement utile mais aussi profondément amusante.\n",
    "\n",
    "* [Mostly Harmless Econometrics](https://www.mostlyharmlesseconometrics.com/)\n",
    "* [Mastering 'Metrics](https://www.masteringmetrics.com/)\n",
    "\n",
    "Ma dernière référence est le livre de Miguel Hernan et Jamie Robins. Il a été mon compagnon fidèle dans les questions causales les plus épineuses que j'ai dû résoudre.\n",
    "\n",
    "* [Causal Inference Book](https://www.hsph.harvard.edu/miguel-hernan/causal-inference-book/)\n",
    "\n",
    "L'analogie de la bière a été tirée de l'excellente [Stock Series](https://jlcollinsnh.com/2012/04/15/stocks-part-1-theres-a-major-market-crash-coming-and-dr-lo-cant-save-you/), par JL Collins. C'est une lecture incontournable pour tous ceux qui veulent apprendre à investir leur argent de manière productive.\n",
    "\n",
    "![img](./data/img/poetry.png)\n",
    "\n",
    "## Contribuer\n",
    "\n",
    "Causal Inference for the Brave and True est un matériel open-source sur l'inférence causale, la statistique de la science. Son objectif est d'être accessible monétairement et intellectuellement. Il utilise uniquement des logiciels gratuits basés sur Python.\n",
    "Si vous avez trouvé ce livre précieux et souhaitez le soutenir, veuillez vous rendre sur [Patreon](https://www.patreon.com/causal_inference_for_the_brave_and_true). Si vous n'êtes pas prêt à contribuer financièrement, vous pouvez également aider en corrigeant les fautes de frappe, en suggérant des modifications ou en donnant votre avis sur les passages que vous n'avez pas compris. Rendez-vous sur le repo du livre et [ouvrez une issue](https://github.com/matheusfacure/python-causality-handbook/issues). Enfin, si vous avez aimé ce contenu, veuillez le partager avec d'autres personnes qui pourraient le trouver utile et lui donner une [étoile sur GitHub](https://github.com/matheusfacure/python-causality-handbook/stargazers)."
   ]
  }
 ],
 "metadata": {
  "celltoolbar": "Tags",
  "kernelspec": {
   "display_name": "Python 3 (ipykernel)",
   "language": "python",
   "name": "python3"
  },
  "language_info": {
   "codemirror_mode": {
    "name": "ipython",
    "version": 3
   },
   "file_extension": ".py",
   "mimetype": "text/x-python",
   "name": "python",
   "nbconvert_exporter": "python",
   "pygments_lexer": "ipython3",
   "version": "3.7.12"
  },
  "toc": {
   "base_numbering": 1,
   "nav_menu": {},
   "number_sections": true,
   "sideBar": true,
   "skip_h1_title": false,
   "title_cell": "Table of Contents",
   "title_sidebar": "Contents",
   "toc_cell": false,
   "toc_position": {},
   "toc_section_display": true,
   "toc_window_display": false
  },
  "varInspector": {
   "cols": {
    "lenName": 16,
    "lenType": 16,
    "lenVar": 40
   },
   "kernels_config": {
    "python": {
     "delete_cmd_postfix": "",
     "delete_cmd_prefix": "del ",
     "library": "var_list.py",
     "varRefreshCmd": "print(var_dic_list())"
    },
    "r": {
     "delete_cmd_postfix": ") ",
     "delete_cmd_prefix": "rm(",
     "library": "var_list.r",
     "varRefreshCmd": "cat(var_dic_list()) "
    }
   },
   "types_to_exclude": [
    "module",
    "function",
    "builtin_function_or_method",
    "instance",
    "_Feature"
   ],
   "window_display": false
  }
 },
 "nbformat": 4,
 "nbformat_minor": 4
}
