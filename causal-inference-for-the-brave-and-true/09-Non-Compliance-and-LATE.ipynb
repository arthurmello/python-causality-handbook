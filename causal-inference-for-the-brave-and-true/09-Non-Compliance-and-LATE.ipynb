{
 "cells": [
  {
   "cell_type": "markdown",
   "metadata": {},
   "source": [
    "# 09 - Non Compliance and LATE\n",
    "\n",
    "## Tremper nos orteils dans un monde hétérogène\n",
    "\n",
    "Auparavant, nous avons vu les variables instrumentales (IV) sous un angle plus traditionnel. Les IV étaient considérées comme une sorte d'expérience naturelle que nous pouvions exploiter. En revanche, la pratique moderne des IV s'inspire beaucoup des sciences médicales. Elle divise le monde en quatre types de sujets, selon leur réaction à la variable instrumentale.\n",
    "\n",
    "1. Les Compliers (les observants)\n",
    "2. Les Never Takers (les refusants systématiques)\n",
    "3. Les Always Takers (les preneurs systématiques)\n",
    "4. Les Defiers (les défiants)\n",
    "\n",
    "Cette nomenclature provient des sciences pharmaceutiques. Imaginez que vous menez une expérience pour tester l'effet d'un nouveau médicament sur une maladie. Chaque sujet se voit attribuer un traitement : un médicament ou un placebo. Les observants sont les sujets qui suivent ce qui leur est assigné. S'ils obtiennent le placebo, ils le prennent ; s'ils obtiennent le médicament, ils le prennent également. Les refusants systématiques sont ceux qui refusent de prendre leur médicament. Même s'ils reçoivent le nouveau médicament, ils ne le prendront pas. D'un autre côté, les preneurs systématiques sont ceux qui peuvent obtenir le nouveau médicament même s'ils reçoivent le placebo. Enfin, les défiants sont ceux qui prennent le traitement s'ils sont assignés au contrôle et prennent le contrôle s'ils sont assignés au traitement. Vous pouvez les considérer comme ces enfants agaçants qui font le contraire de ce qu'on leur dit. En pratique, ils ne sont pas si courants (les défiants, pas les enfants), donc nous les ignorons souvent.\n",
    "\n",
    "![img](./data/img/late/defiers.png)\n",
    "\n",
    "La méthode moderne des IV traite l'instrument comme un quasi-design expérimental où la conformité n'est pas parfaite. Ce faisant, elle distingue les effets causaux valides en interne des effets causaux valides en externe. Pour rappel, un effet valide en interne est celui que nous sommes capables d'identifier. Il est valide dans ce contexte particulier, avec ces données particulières. Dans les IV, ce serait l'effet du traitement sur ceux où l'instrument modifie le traitement. La validité externe, en revanche, se préoccupe du pouvoir prédictif de cet effet causal. Elle se demande si nous pourrions généraliser l'effet que nous avons trouvé dans cet échantillon à d'autres populations. Par exemple, supposons que vous ayez mené un essai randomisé contrôlé dans votre université pour déterminer si les gens sont généreux ou non lorsqu'ils reçoivent une incitation à faire un don. L'expérience est bien conçue, mais vous n'invitez que des étudiants en économie à participer. Vous découvrez alors que tous sont des égoïstes. C'est une conclusion valide en interne. Elle est valable pour ces points de données. Mais pouvez-vous, à partir de cette expérience, en déduire que l'humanité est égoïste ? Ce n'est guère le cas. Nous nous demanderions donc si votre expérience a une validité externe pour généraliser ses résultats. Bref, revenons aux IV.\n",
    "\n",
    "Pour rendre cela plus concret, considérons un cas où vous souhaitez augmenter l'engagement des utilisateurs mesuré par les achats in-app. Une façon de le faire est de demander à votre département marketing de proposer une notification push que vous pouvez utiliser pour engager vos utilisateurs. Ils proposent un design brillant et des interactions utilisateur très sophistiquées. Avec cette notification, vous passez à la conception d'un essai randomisé. Vous sélectionnez 10 000 clients au hasard et, pour chacun d'eux, vous attribuez la notification avec une probabilité de 50 %. Cependant, lorsque vous exécutez le test, vous constatez que certains clients qui étaient censés recevoir la notification ne la reçoivent pas. Lorsque vous parlez aux ingénieurs, ils disent que c'est probablement parce qu'ils ont un téléphone plus ancien qui ne prend pas en charge le type de notification push conçu par l'équipe marketing.\n",
    "\n",
    "Au début, vous pourriez penser que ce n'est pas un gros problème. Au lieu d'utiliser le traitement assigné comme variable de traitement, vous pouvez simplement utiliser le traitement reçu, n'est-ce pas ? Il s'avère que ce n'est pas si simple. Si vous tracez le graphe causal de toute cette situation, cela ressemblerait à quelque chose comme ceci :"
   ]
  },
  {
   "cell_type": "code",
   "execution_count": 1,
   "metadata": {
    "tags": [
     "hide-input"
    ]
   },
   "outputs": [],
   "source": [
    "import warnings\n",
    "warnings.filterwarnings('ignore')\n",
    "\n",
    "import pandas as pd\n",
    "import numpy as np\n",
    "from scipy import stats\n",
    "from matplotlib import style\n",
    "import seaborn as sns\n",
    "from matplotlib import pyplot as plt\n",
    "import statsmodels.formula.api as smf\n",
    "from linearmodels.iv import IV2SLS\n",
    "import graphviz as gr\n",
    "\n",
    "%matplotlib inline\n",
    "\n",
    "style.use(\"fivethirtyeight\")"
   ]
  },
  {
   "cell_type": "code",
   "execution_count": 2,
   "metadata": {
    "tags": [
     "hide-input"
    ]
   },
   "outputs": [
    {
     "data": {
      "image/svg+xml": [
       "<?xml version=\"1.0\" encoding=\"UTF-8\" standalone=\"no\"?>\n",
       "<!DOCTYPE svg PUBLIC \"-//W3C//DTD SVG 1.1//EN\"\n",
       " \"http://www.w3.org/Graphics/SVG/1.1/DTD/svg11.dtd\">\n",
       "<!-- Generated by graphviz version 2.40.1 (20161225.0304)\n",
       " -->\n",
       "<!-- Title: %3 Pages: 1 -->\n",
       "<svg width=\"218pt\" height=\"188pt\"\n",
       " viewBox=\"0.00 0.00 217.62 188.00\" xmlns=\"http://www.w3.org/2000/svg\" xmlns:xlink=\"http://www.w3.org/1999/xlink\">\n",
       "<g id=\"graph0\" class=\"graph\" transform=\"scale(1 1) rotate(0) translate(4 184)\">\n",
       "<title>%3</title>\n",
       "<polygon fill=\"#ffffff\" stroke=\"transparent\" points=\"-4,4 -4,-184 213.6163,-184 213.6163,4 -4,4\"/>\n",
       "<!-- push assigned -->\n",
       "<g id=\"node1\" class=\"node\">\n",
       "<title>push assigned</title>\n",
       "<ellipse fill=\"none\" stroke=\"#000000\" cx=\"59.48\" cy=\"-162\" rx=\"59.4599\" ry=\"18\"/>\n",
       "<text text-anchor=\"middle\" x=\"59.48\" y=\"-157.8\" font-family=\"Times,serif\" font-size=\"14.00\" fill=\"#000000\">push assigned</text>\n",
       "</g>\n",
       "<!-- push delivered -->\n",
       "<g id=\"node2\" class=\"node\">\n",
       "<title>push delivered</title>\n",
       "<ellipse fill=\"none\" stroke=\"#000000\" cx=\"83.48\" cy=\"-90\" rx=\"61.8481\" ry=\"18\"/>\n",
       "<text text-anchor=\"middle\" x=\"83.48\" y=\"-85.8\" font-family=\"Times,serif\" font-size=\"14.00\" fill=\"#000000\">push delivered</text>\n",
       "</g>\n",
       "<!-- push assigned&#45;&gt;push delivered -->\n",
       "<g id=\"edge1\" class=\"edge\">\n",
       "<title>push assigned&#45;&gt;push delivered</title>\n",
       "<path fill=\"none\" stroke=\"#000000\" d=\"M65.5362,-143.8314C68.1312,-136.0463 71.2223,-126.7729 74.1017,-118.1347\"/>\n",
       "<polygon fill=\"#000000\" stroke=\"#000000\" points=\"77.5003,-119.0069 77.3422,-108.4133 70.8595,-116.7933 77.5003,-119.0069\"/>\n",
       "</g>\n",
       "<!-- in app purchase -->\n",
       "<g id=\"node3\" class=\"node\">\n",
       "<title>in app purchase</title>\n",
       "<ellipse fill=\"none\" stroke=\"#000000\" cx=\"128.48\" cy=\"-18\" rx=\"65.7062\" ry=\"18\"/>\n",
       "<text text-anchor=\"middle\" x=\"128.48\" y=\"-13.8\" font-family=\"Times,serif\" font-size=\"14.00\" fill=\"#000000\">in app purchase</text>\n",
       "</g>\n",
       "<!-- push delivered&#45;&gt;in app purchase -->\n",
       "<g id=\"edge2\" class=\"edge\">\n",
       "<title>push delivered&#45;&gt;in app purchase</title>\n",
       "<path fill=\"none\" stroke=\"#000000\" d=\"M94.6036,-72.2022C99.85,-63.8079 106.2164,-53.6218 112.0076,-44.3558\"/>\n",
       "<polygon fill=\"#000000\" stroke=\"#000000\" points=\"114.9963,-46.1776 117.3284,-35.8425 109.0603,-42.4675 114.9963,-46.1776\"/>\n",
       "</g>\n",
       "<!-- income -->\n",
       "<g id=\"node4\" class=\"node\">\n",
       "<title>income</title>\n",
       "<ellipse fill=\"none\" stroke=\"#0000ff\" cx=\"173.48\" cy=\"-162\" rx=\"36.2732\" ry=\"18\"/>\n",
       "<text text-anchor=\"middle\" x=\"173.48\" y=\"-157.8\" font-family=\"Times,serif\" font-size=\"14.00\" fill=\"#000000\">income</text>\n",
       "</g>\n",
       "<!-- income&#45;&gt;push delivered -->\n",
       "<g id=\"edge4\" class=\"edge\">\n",
       "<title>income&#45;&gt;push delivered</title>\n",
       "<path fill=\"none\" stroke=\"#000000\" d=\"M153.9513,-146.3771C141.9637,-136.787 126.3802,-124.3202 112.9166,-113.5493\"/>\n",
       "<polygon fill=\"#000000\" stroke=\"#000000\" points=\"114.8538,-110.6169 104.8586,-107.1029 110.4809,-116.083 114.8538,-110.6169\"/>\n",
       "</g>\n",
       "<!-- income&#45;&gt;in app purchase -->\n",
       "<g id=\"edge3\" class=\"edge\">\n",
       "<title>income&#45;&gt;in app purchase</title>\n",
       "<path fill=\"none\" stroke=\"#000000\" d=\"M170.9448,-143.7268C168.0824,-125.2955 162.7207,-96.1857 154.48,-72 151.4078,-62.9835 147.208,-53.5101 143.0798,-45.0596\"/>\n",
       "<polygon fill=\"#000000\" stroke=\"#000000\" points=\"146.1505,-43.3758 138.5135,-36.0323 139.9041,-46.5354 146.1505,-43.3758\"/>\n",
       "</g>\n",
       "</g>\n",
       "</svg>\n"
      ],
      "text/plain": [
       "<graphviz.dot.Digraph at 0x12a416358>"
      ]
     },
     "execution_count": 2,
     "metadata": {},
     "output_type": "execute_result"
    }
   ],
   "source": [
    "g = gr.Digraph()\n",
    "\n",
    "g.edge(\"push assigned\", \"push delivered\")\n",
    "g.edge(\"push delivered\", \"in app purchase\")\n",
    "g.edge(\"income\", \"in app purchase\")\n",
    "g.edge(\"income\", \"push delivered\")\n",
    "g.node(\"income\", color=\"blue\")\n",
    "g"
   ]
  },
  {
   "cell_type": "markdown",
   "metadata": {},
   "source": [
    "En haut du graphe causal, vous avez l'assignation de la notification push. Ceci est aléatoire par conception, donc rien ne le cause. Ensuite, vous avez un nœud pour savoir si le push a été livré. Tout le monde n'a pas reçu le push assigné, donc vous avez une non-conformité ici. Plus précisément, vous avez des never takers : ceux qui ne reçoivent pas le traitement même s'ils y sont assignés. Vous avez également des raisons de soupçonner que cette non-conformité n'est pas simplement due au hasard. Étant donné que les personnes avec des téléphones plus anciens sont celles qui ne reçoivent pas le push, vous pouvez argumenter que le revenu cause également la livraison du push. Plus une personne est riche, plus elle est susceptible d'avoir un téléphone plus récent, ce qui augmente la probabilité qu'elle reçoive le push. Enfin, vous avez la variable de résultat, les achats in-app. Gardez à l'esprit que nous ne connaissons pas le revenu, nous ne pouvons donc pas le contrôler. Dans ce contexte, examinons ce qui se passerait si nous utilisions simplement le push assigné comme variable de traitement et si, à la place, nous utilisions le push délivré comme traitement.\n",
    "\n",
    "Dans le premier cas, nous estimerions l'effet causal par la différence de moyennes suivante :\n",
    "\n",
    "$$\n",
    "ATE = E[Y | pushAssigned=1] - E[Y | pushAssigned=0]\n",
    "$$\n",
    "\n",
    "Comme nous le savons bien maintenant, cela n'est une estimation sans biais de $E[Y_1] - E[Y_0]$ que si le biais $E[Y_0|pushAssigned=0] - E[Y_0|pushAssigned=1]$ est nul. Puisque `pushAssigned` est aléatoire, nous savons que le biais est nul. Est-ce que cela règle le problème ? Pas tout à fait. En fait, en procédant ainsi, nous répondons à une question différente de celle que nous avions l'intention de poser. Nous trouverions l'effet causal de l'assignation du traitement, et non du traitement lui-même. Mais sont-ils différents ou pouvons-nous extrapoler l'effet causal de l'assignation du traitement à l'ATE ? En d'autres termes, l'effet causal de l'assignation du traitement est-il une estimation sans biais de l'ATE ?\n",
    "\n",
    "Il s'avère que non. En raison de la non-conformité, le résultat de ceux assignés au traitement sera poussé dans la direction du résultat de ceux assignés au contrôle. La non-conformité inverse le traitement de manière non intentionnelle, rendant le traitement et le contrôle plus similaires dans le résultat. Ne confondez pas cela avec la similarité sur les variables. Nous voulons que le groupe traité et le groupe de contrôle soient similaires sur les variables. Cela les rendra comparables. Ce que nous ne voulons pas, c'est qu'ils soient similaires dans le résultat s'il y a effectivement un effet de traitement.\n",
    "\n",
    "Pour voir cela, supposons d'abord que nous ayons des always takers. Certains d'entre eux seront assignés au groupe de contrôle par hasard. Mais ceux qui le sont prendront le traitement de toute façon. Cela en fait essentiellement un groupe traité qui est mélangé avec le contrôle. En raison de ce mélange, l'effet causal sera plus difficile à trouver lorsque nous avons une non-conformité.\n",
    "\n",
    "![img](./data/img/late/always_takers.png)\n",
    "\n",
    "Par le même raisonnement, les never takers feront que ceux assignés au traitement ressembleront un peu aux non-traités, car ils ne prennent pas le traitement même s'ils y sont assignés. En ce sens, **l'effet causal de l'assignation du traitement est biaisé vers zéro** parce que la non-conformité réduit l'impact détectable. Une autre façon de voir cela est d'imaginer un cas extrême. Disons que la non-conformité est très élevée. L'assignation du traitement ne dit rien sur le traitement reçu. Le traitement reçu est purement aléatoire dans ce cas. En termes de IV, cela signifierait que nous avons une première étape très faible. En utilisant `Z` pour désigner l'assignation du traitement, nous aurions que\n",
    "\n",
    "$$\n",
    "E[Y|Z=1] - E[Y|Z=0] = 0\n",
    "$$\n",
    "\n",
    "Il n'y aurait plus de lien causal entre l'assignation du traitement et le résultat. Z ne serait qu'une variable aléatoire sans signification."
   ]
  },
  {
   "cell_type": "code",
   "execution_count": 3,
   "metadata": {
    "tags": [
     "hide-input"
    ]
   },
   "outputs": [
    {
     "data": {
      "image/svg+xml": [
       "<?xml version=\"1.0\" encoding=\"UTF-8\" standalone=\"no\"?>\n",
       "<!DOCTYPE svg PUBLIC \"-//W3C//DTD SVG 1.1//EN\"\n",
       " \"http://www.w3.org/Graphics/SVG/1.1/DTD/svg11.dtd\">\n",
       "<!-- Generated by graphviz version 2.40.1 (20161225.0304)\n",
       " -->\n",
       "<!-- Title: %3 Pages: 1 -->\n",
       "<svg width=\"247pt\" height=\"188pt\"\n",
       " viewBox=\"0.00 0.00 247.08 188.00\" xmlns=\"http://www.w3.org/2000/svg\" xmlns:xlink=\"http://www.w3.org/1999/xlink\">\n",
       "<g id=\"graph0\" class=\"graph\" transform=\"scale(1 1) rotate(0) translate(4 184)\">\n",
       "<title>%3</title>\n",
       "<polygon fill=\"#ffffff\" stroke=\"transparent\" points=\"-4,4 -4,-184 243.083,-184 243.083,4 -4,4\"/>\n",
       "<!-- push assigned -->\n",
       "<g id=\"node1\" class=\"node\">\n",
       "<title>push assigned</title>\n",
       "<ellipse fill=\"none\" stroke=\"#000000\" cx=\"59.48\" cy=\"-162\" rx=\"59.4599\" ry=\"18\"/>\n",
       "<text text-anchor=\"middle\" x=\"59.48\" y=\"-157.8\" font-family=\"Times,serif\" font-size=\"14.00\" fill=\"#000000\">push assigned</text>\n",
       "</g>\n",
       "<!-- push delivered -->\n",
       "<g id=\"node2\" class=\"node\">\n",
       "<title>push delivered</title>\n",
       "<ellipse fill=\"none\" stroke=\"#000000\" cx=\"128.48\" cy=\"-90\" rx=\"61.8481\" ry=\"18\"/>\n",
       "<text text-anchor=\"middle\" x=\"128.48\" y=\"-85.8\" font-family=\"Times,serif\" font-size=\"14.00\" fill=\"#000000\">push delivered</text>\n",
       "</g>\n",
       "<!-- in app purchase -->\n",
       "<g id=\"node3\" class=\"node\">\n",
       "<title>in app purchase</title>\n",
       "<ellipse fill=\"none\" stroke=\"#000000\" cx=\"173.48\" cy=\"-18\" rx=\"65.7062\" ry=\"18\"/>\n",
       "<text text-anchor=\"middle\" x=\"173.48\" y=\"-13.8\" font-family=\"Times,serif\" font-size=\"14.00\" fill=\"#000000\">in app purchase</text>\n",
       "</g>\n",
       "<!-- push delivered&#45;&gt;in app purchase -->\n",
       "<g id=\"edge1\" class=\"edge\">\n",
       "<title>push delivered&#45;&gt;in app purchase</title>\n",
       "<path fill=\"none\" stroke=\"#000000\" d=\"M139.6036,-72.2022C144.85,-63.8079 151.2164,-53.6218 157.0076,-44.3558\"/>\n",
       "<polygon fill=\"#000000\" stroke=\"#000000\" points=\"159.9963,-46.1776 162.3284,-35.8425 154.0603,-42.4675 159.9963,-46.1776\"/>\n",
       "</g>\n",
       "<!-- income -->\n",
       "<g id=\"node4\" class=\"node\">\n",
       "<title>income</title>\n",
       "<ellipse fill=\"none\" stroke=\"#0000ff\" cx=\"173.48\" cy=\"-162\" rx=\"36.2732\" ry=\"18\"/>\n",
       "<text text-anchor=\"middle\" x=\"173.48\" y=\"-157.8\" font-family=\"Times,serif\" font-size=\"14.00\" fill=\"#000000\">income</text>\n",
       "</g>\n",
       "<!-- income&#45;&gt;push delivered -->\n",
       "<g id=\"edge3\" class=\"edge\">\n",
       "<title>income&#45;&gt;push delivered</title>\n",
       "<path fill=\"none\" stroke=\"#000000\" d=\"M162.5867,-144.5708C157.3039,-136.1184 150.8457,-125.7851 144.9756,-116.3931\"/>\n",
       "<polygon fill=\"#000000\" stroke=\"#000000\" points=\"147.8535,-114.3939 139.5855,-107.7689 141.9175,-118.1039 147.8535,-114.3939\"/>\n",
       "</g>\n",
       "<!-- income&#45;&gt;in app purchase -->\n",
       "<g id=\"edge2\" class=\"edge\">\n",
       "<title>income&#45;&gt;in app purchase</title>\n",
       "<path fill=\"none\" stroke=\"#000000\" d=\"M184.2576,-144.7385C190.0168,-134.4847 196.5168,-120.9847 199.48,-108 203.0397,-92.401 203.0397,-87.599 199.48,-72 197.3607,-62.7132 193.4322,-53.1628 189.2595,-44.725\"/>\n",
       "<polygon fill=\"#000000\" stroke=\"#000000\" points=\"192.2859,-42.9603 184.5281,-35.7445 186.0928,-46.2231 192.2859,-42.9603\"/>\n",
       "</g>\n",
       "</g>\n",
       "</svg>\n"
      ],
      "text/plain": [
       "<graphviz.dot.Digraph at 0x12a416550>"
      ]
     },
     "execution_count": 3,
     "metadata": {},
     "output_type": "execute_result"
    }
   ],
   "source": [
    "g = gr.Digraph()\n",
    "\n",
    "g.node(\"push assigned\")\n",
    "g.edge(\"push delivered\", \"in app purchase\")\n",
    "g.edge(\"income\", \"in app purchase\")\n",
    "g.edge(\"income\", \"push delivered\")\n",
    "g.node(\"income\", color=\"blue\")\n",
    "g"
   ]
  },
  {
   "cell_type": "markdown",
   "metadata": {},
   "source": [
    "OK, donc nous avons exclu l'utilisation de l'effet causal de l'assignation comme moyen d'estimer l'effet causal du traitement. Alors, qu'en est-il de simplement utiliser le traitement reçu ?\n",
    "\n",
    "$$\n",
    "\\mathrm{ATE} = E[Y | \\mathrm{push}=1] - E[Y | \\mathrm{push}=0]\n",
    "$$\n",
    "\n",
    "Encore une fois, nous devons réfléchir si cela est biaisé ou non, ou si $E[Y_0|\\mathrm{push}=0] = E[Y_0|\\mathrm{push}=1]$. En regardant simplement le graphe causal ci-dessus, nous savons que ce n'est pas le cas. Nous avons ce facteur de confusion non mesuré, le revenu, qui rôde et il est certain de perturber les choses. Comme nous l'avons dit plus tôt, nous savons que l'échec de la livraison du push, dans notre cas, est causé par les clients ayant des téléphones plus anciens. Ce qui signifie que nous avons probablement $E[Y_0|\\mathrm{push}=0] < E[Y_0|\\mathrm{push}=1]$. Nous pensons que c'est le cas parce que les clients avec moins d'argent ont à la fois des téléphones plus anciens, ce qui conduira à $\\mathrm{push}=0$, et également un potentiel d'achat in-app $Y_0$ plus faible.\n",
    "\n",
    "C'est décevant ! Nous ne pouvons pas utiliser le traitement assigné ni le traitement reçu pour estimer notre ATE. Mais heureusement, nous savons ce que nous pouvons utiliser : les variables instrumentales. Ici, le traitement assigné est le parfait instrument pour le traitement. Il est aussi bon que le hasard et il ne cause l'achat in-app que par le biais du traitement.\n",
    "\n",
    "## Effet de Traitement Moyen Local : LATE\n",
    "\n",
    "L'effet de traitement moyen local explicite la population pour laquelle nous pouvons estimer l'effet causal. C'est aussi une autre façon de voir les IV, qui donne d'autres intuitions intéressantes. Dans les IV modernes, nous voyons l'instrument comme le début d'une chaîne causale : Z cause T qui cause Y. Dans ce contexte, la restriction d'exclusion signifie que Z ne cause pas Y, sauf par son effet sur T. La première étape est maintenant vue comme l'effet causal de Z sur T. Nous réécrivons également les résultats potentiels avec une notation à double indice, où le premier indice désigne le contrefactuel pour l'instrument et le deuxième indice, pour le traitement\n",
    "\n",
    "$$\n",
    "\\text{Potential Outcome}=\\begin{cases}\n",
    "Y_i(1, 1) \\ \\text{si } T_i=1, \\ Z_i=1\\\\\n",
    "Y_i(1, 0) \\ \\text{si } T_i=1, \\ Z_i=0\\\\\n",
    "Y_i(0, 1) \\ \\text{si } T_i=0, \\ Z_i=1\\\\\n",
    "Y_i(0, 0) \\ \\text{si } T_i=0, \\ Z_i=0\\\\\n",
    "\\end{cases}\n",
    "$$\n",
    "\n",
    "En un sens, le traitement devient le résultat, du moins dans la première étape. Cela signifie que nous pouvons aussi l'écrire avec la notation des résultats potentiels :\n",
    "\n",
    "$$\n",
    "\\text{Potential Treatment}=\\begin{cases}\n",
    "T_0 \\ \\text{si } Z_i=0 \\\\\n",
    "T_1 \\ \\text{si } Z_i=1\n",
    "\\end{cases}\n",
    "$$\n",
    "\n",
    "![img](./data/img/late/double_index.png)\n",
    "\n",
    "Les hypothèses des variables instrumentales peuvent maintenant être réécrites comme suit :\n",
    "\n",
    "1. $T_{0i}, T_{1i} \\perp Z_i $ et $Y_i(T_{1i},1), Y_i(T_{0i},0) \\perp Z_i $. Ceci est l'hypothèse d'indépendance. Cela signifie que l'instrument est aussi bon que l'assignation aléatoire. En d'autres termes, Z, l'instrument, n'est pas corrélé avec les traitements potentiels, ce qui revient à dire que les personnes dans différents groupes d'instrument sont comparables.\n",
    "\n",
    "2. $Y_i(1, 0)=Y_i(1, 1)=Y_{i1}$ et $Y_i(0, 0)=Y_i(0, 1)=Y_{i0}$. Ceci est la restriction d'exclusion. Cela signifie que si je regarde le résultat potentiel pour les traités, il est le même pour les deux groupes d'instrument. En d'autres termes, l'instrument n'affecte pas le résultat potentiel, ce qui revient à dire que l'instrument n'affecte le résultat que par le traitement.\n",
    "\n",
    "3. $E[T_{1i}-T_{0i}] \\neq 0$. Ceci est l'existence d'une première étape. Cela signifie que le résultat potentiel de la première étape, c'est-à-dire le traitement potentiel, n'est PAS le même. Une autre façon de dire cela est que l'instrument affecte le traitement.\n",
    "\n",
    "4. $T_{i1} > T_{i0}$. Ceci est l'hypothèse de monotonie. Cela signifie que si tout le monde avait l'instrument activé, le niveau de traitement serait plus élevé que si tout le monde avait l'instrument désactivé.\n",
    "\n",
    "Maintenant, revoyons l'estimateur de Wald pour obtenir une intuition supplémentaire sur les IV :\n",
    "\n",
    "$$\n",
    "ATE = \\dfrac{E[Y|Z=1]-E[Y|Z=0]}{E[T|Z=1]-E[T|Z=0]}\n",
    "$$\n",
    "\n",
    "Prenons la première partie, $E[Y|Z=1]$. En utilisant la restriction d'exclusion, nous pouvons réécrire Y en termes de résultat potentiel comme ceci :\n",
    "\n",
    "$$\n",
    "E[Y_i|Z_i=1]=E[Y_{i0} + T_{i1}(Y_{i1} - Y_{i0})|Z=1]\n",
    "$$\n",
    "\n",
    "En utilisant l'indépendance, nous pouvons retirer la condition sur Z.\n",
    "\n",
    "$$\n",
    "E[Y_i|Z_i=1]=E[Y_{i0} + T_{i1}(Y_{i1} - Y_{i0})]\n",
    "$$\n",
    "\n",
    "Avec un argument similaire, nous obtenons que\n",
    "\n",
    "$$\n",
    "E[Y_i|Z_i=0]=E[Y_{i0} + T_{i0}(Y_{i1} - Y_{i0})]\n",
    "$$\n",
    "\n",
    "Nous pouvons maintenant réécrire le numérateur de l'estimateur de Wald comme ceci :\n",
    "\n",
    "$$\n",
    "E[Y|Z=1]-E[Y|Z=0] = E[(Y_{i1}-Y_{i0})(T_{i1}-T_{i0})]\n",
    "$$\n",
    "\n",
    "En utilisant la monotonie, nous savons que $T_{i1}-T_{i0}$ est 0 ou 1, donc\n",
    "\n",
    "$$\n",
    "E[(Y_{i1}-Y_{i0})(T_{i1}-T_{i0})] = E[(Y_{i1}-Y_{i0})|T_{i1}>T_{i0}]P(T_{i1}>T_{i0})\n",
    "$$\n",
    "\n",
    "En utilisant un argument similaire pour traiter le dénominateur, nous obtenons que\n",
    "\n",
    "$$\n",
    "E[T|Z=1]-E[T|Z=0]=E[T_{i1}-T_{i0}]=P(T_{i1}>T_{i0})\n",
    "$$\n",
    "\n",
    "Tout cela nous permet de voir l'estimateur de Wald comme ceci :\n",
    "\n",
    "$$\n",
    "ATE = \\dfrac{E[(Y_{i1}-Y_{i0})|T_{i1}>T_{i0}]P(T_{i1}>T_{i0})}{P(T_{i1}>T_{i0})}=E[(Y_{i1}-Y_{i0})|T_{i1}>T_{i0}]\n",
    "$$\n",
    "\n",
    "C'est-à-dire que l'ATE estimé par les IV est l'ATE sur la sous-population où $T_{i1}>T_{i0}$. Et si vous pensez à la conformité, de quelle population s'agit-il ? Il s'agit de la population où ceux qui ont l'instrument activé ont un niveau de traitement plus élevé que s'ils avaient l'instrument désactivé. En d'autres termes, il s'agit de la population des observants. Pour rappel :\n",
    "\n",
    "1. Les observants signifie que $T_{i1}>T_{i0}$\n",
    "2. Les refusants systématiques $T_{i1}=T_{i0}=0$\n",
    "3. Les preneurs systématiques $T_{i1}=T_{i0}=1$\n",
    "\n",
    "La conclusion de cela est que les IV ne disent rien sur l'effet sur les refusants systématiques, les preneurs systématiques ou les défiants, car le traitement ne change pas pour eux ! **Les IV trouvent uniquement l'effet du traitement pour les observants**.\n",
    "\n",
    "## Effet sur l'Engagement\n",
    "\n",
    "Voyons comment tout cela se joue dans l'étude de cas où nous essayons d'estimer l'effet d'un push sur les achats in-app. Le graphe causal est celui que nous avons décrit ci-dessus, donc je ne le répéterai pas ici. Les données que nous avons portent à la fois sur le push assigné, l'instrument randomisé, et le push délivré, la variable de traitement."
   ]
  },
  {
   "cell_type": "code",
   "execution_count": 9,
   "metadata": {},
   "outputs": [
    {
     "data": {
      "text/html": [
       "<div>\n",
       "<style scoped>\n",
       "    .dataframe tbody tr th:only-of-type {\n",
       "        vertical-align: middle;\n",
       "    }\n",
       "\n",
       "    .dataframe tbody tr th {\n",
       "        vertical-align: top;\n",
       "    }\n",
       "\n",
       "    .dataframe thead th {\n",
       "        text-align: right;\n",
       "    }\n",
       "</style>\n",
       "<table border=\"1\" class=\"dataframe\">\n",
       "  <thead>\n",
       "    <tr style=\"text-align: right;\">\n",
       "      <th></th>\n",
       "      <th>in_app_purchase</th>\n",
       "      <th>push_assigned</th>\n",
       "      <th>push_delivered</th>\n",
       "    </tr>\n",
       "  </thead>\n",
       "  <tbody>\n",
       "    <tr>\n",
       "      <th>0</th>\n",
       "      <td>47</td>\n",
       "      <td>1</td>\n",
       "      <td>1</td>\n",
       "    </tr>\n",
       "    <tr>\n",
       "      <th>1</th>\n",
       "      <td>43</td>\n",
       "      <td>1</td>\n",
       "      <td>0</td>\n",
       "    </tr>\n",
       "    <tr>\n",
       "      <th>2</th>\n",
       "      <td>51</td>\n",
       "      <td>1</td>\n",
       "      <td>1</td>\n",
       "    </tr>\n",
       "    <tr>\n",
       "      <th>3</th>\n",
       "      <td>49</td>\n",
       "      <td>0</td>\n",
       "      <td>0</td>\n",
       "    </tr>\n",
       "    <tr>\n",
       "      <th>4</th>\n",
       "      <td>79</td>\n",
       "      <td>0</td>\n",
       "      <td>0</td>\n",
       "    </tr>\n",
       "  </tbody>\n",
       "</table>\n",
       "</div>"
      ],
      "text/plain": [
       "   in_app_purchase  push_assigned  push_delivered\n",
       "0               47              1               1\n",
       "1               43              1               0\n",
       "2               51              1               1\n",
       "3               49              0               0\n",
       "4               79              0               0"
      ]
     },
     "execution_count": 9,
     "metadata": {},
     "output_type": "execute_result"
    }
   ],
   "source": [
    "data = pd.read_csv(\"./data/app_engagement_push.csv\")\n",
    "    \n",
    "data.head()"
   ]
  },
  {
   "cell_type": "markdown",
   "metadata": {},
   "source": [
    "D’accord, essayons les moindres carrés ordinaires (OLS) pour voir ce que cela nous donnerait."
   ]
  },
  {
   "cell_type": "code",
   "execution_count": 10,
   "metadata": {},
   "outputs": [
    {
     "data": {
      "text/html": [
       "<table class=\"simpletable\">\n",
       "<caption>Parameter Estimates</caption>\n",
       "<tr>\n",
       "         <td></td>        <th>Parameter</th> <th>Std. Err.</th> <th>T-stat</th>  <th>P-value</th> <th>Lower CI</th> <th>Upper CI</th>\n",
       "</tr>\n",
       "<tr>\n",
       "  <th>Intercept</th>       <td>69.292</td>    <td>0.3624</td>   <td>191.22</td>  <td>0.0000</td>   <td>68.581</td>   <td>70.002</td> \n",
       "</tr>\n",
       "<tr>\n",
       "  <th>push_assigned</th>   <td>-17.441</td>   <td>0.5702</td>   <td>-30.590</td> <td>0.0000</td>   <td>-18.559</td>  <td>-16.324</td>\n",
       "</tr>\n",
       "<tr>\n",
       "  <th>push_delivered</th>  <td>27.600</td>    <td>0.6124</td>   <td>45.069</td>  <td>0.0000</td>   <td>26.399</td>   <td>28.800</td> \n",
       "</tr>\n",
       "</table>"
      ],
      "text/plain": [
       "<class 'statsmodels.iolib.table.SimpleTable'>"
      ]
     },
     "execution_count": 10,
     "metadata": {},
     "output_type": "execute_result"
    }
   ],
   "source": [
    "ols = IV2SLS.from_formula(\"in_app_purchase ~ 1 + push_assigned + push_delivered\", data).fit()\n",
    "ols.summary.tables[1]"
   ]
  },
  {
   "cell_type": "markdown",
   "metadata": {},
   "source": [
    "D’accord, maintenant que nous avons vu que les OLS indiquent que l’effet du traitement est de 27,60 BRL, nous devons considérer que cette estimation est probablement biaisée. Nous savons que les téléphones plus anciens ont des problèmes pour recevoir le push, ce qui signifie que les clients plus riches, avec des téléphones plus récents, sont les compliers. Puisque ceux qui reçoivent le traitement ont également plus d’argent, nous pensons que ce biais est positif et que l’impact réel du push est inférieur. En d’autres termes, nous avons probablement $E[Y_0|T=0] < E[Y_0|T=1]$.\n",
    "\n",
    "Passons maintenant à l’estimation de cet effet avec les variables instrumentales. Tout d’abord, exécutons la première étape."
   ]
  },
  {
   "cell_type": "code",
   "execution_count": 11,
   "metadata": {},
   "outputs": [
    {
     "data": {
      "text/html": [
       "<table class=\"simpletable\">\n",
       "<caption>Parameter Estimates</caption>\n",
       "<tr>\n",
       "        <td></td>        <th>Parameter</th> <th>Std. Err.</th> <th>T-stat</th> <th>P-value</th>  <th>Lower CI</th>  <th>Upper CI</th> \n",
       "</tr>\n",
       "<tr>\n",
       "  <th>Intercept</th>      <td>0.0000</td>   <td>7.408e-11</td> <td>0.0000</td> <td>1.0000</td>  <td>-1.452e-10</td> <td>1.452e-10</td>\n",
       "</tr>\n",
       "<tr>\n",
       "  <th>push_assigned</th>  <td>0.7176</td>    <td>0.0064</td>   <td>112.07</td> <td>0.0000</td>    <td>0.7050</td>    <td>0.7301</td>  \n",
       "</tr>\n",
       "</table>"
      ],
      "text/plain": [
       "<class 'statsmodels.iolib.table.SimpleTable'>"
      ]
     },
     "execution_count": 11,
     "metadata": {},
     "output_type": "execute_result"
    }
   ],
   "source": [
    "first_stage = IV2SLS.from_formula(\"push_delivered ~ 1 + push_assigned\", data).fit()\n",
    "first_stage.summary.tables[1]"
   ]
  },
  {
   "cell_type": "markdown",
   "metadata": {},
   "source": [
    "D’accord, il semble que nous ayons une première étape solide. Ceux qui sont assignés à recevoir le push le reçoivent 71,8 % du temps. Cela signifie que nous avons environ 28 % de “never takers”. Nous avons également de bonnes raisons de croire qu’il n’y a pas de “always takers”, puisque le paramètre d’interception est estimé à zéro. Cela signifie que personne ne reçoit le push s’il ne lui est pas assigné. Étant donné le design de notre expérience, cela est attendu.\n",
    "\n",
    "Passons maintenant à l’exécution de la forme réduite :"
   ]
  },
  {
   "cell_type": "code",
   "execution_count": 7,
   "metadata": {},
   "outputs": [
    {
     "data": {
      "text/html": [
       "<table class=\"simpletable\">\n",
       "<caption>Parameter Estimates</caption>\n",
       "<tr>\n",
       "        <td></td>        <th>Parameter</th> <th>Std. Err.</th> <th>T-stat</th> <th>P-value</th> <th>Lower CI</th> <th>Upper CI</th>\n",
       "</tr>\n",
       "<tr>\n",
       "  <th>Intercept</th>      <td>69.292</td>    <td>0.3624</td>   <td>191.22</td> <td>0.0000</td>   <td>68.581</td>   <td>70.002</td> \n",
       "</tr>\n",
       "<tr>\n",
       "  <th>push_assigned</th>  <td>2.3636</td>    <td>0.5209</td>   <td>4.5376</td> <td>0.0000</td>   <td>1.3427</td>   <td>3.3845</td> \n",
       "</tr>\n",
       "</table>"
      ],
      "text/plain": [
       "<class 'statsmodels.iolib.table.SimpleTable'>"
      ]
     },
     "execution_count": 7,
     "metadata": {},
     "output_type": "execute_result"
    }
   ],
   "source": [
    "reduced_form = IV2SLS.from_formula(\"in_app_purchase ~ 1 + push_assigned\", data).fit()\n",
    "reduced_form.summary.tables[1]"
   ]
  },
  {
   "cell_type": "markdown",
   "metadata": {},
   "source": [
    "La forme réduite montre que l’effet causal de l’assignation du traitement est de 2,36. Cela signifie qu’assigner quelqu’un pour recevoir le push augmente les achats in-app de 2,36 BRL.\n",
    "\n",
    "Si nous divisons la forme réduite par la première étape, nous mettons à l’échelle l’effet de l’instrument par les unités du traitement, nous obtenons $2.3636/0.7176=3.29$. En exécutant les 2SLS, nous obtenons ces mêmes estimations, avec en bonus des erreurs standards correctes."
   ]
  },
  {
   "cell_type": "code",
   "execution_count": 8,
   "metadata": {},
   "outputs": [
    {
     "data": {
      "text/html": [
       "<table class=\"simpletable\">\n",
       "<caption>Parameter Estimates</caption>\n",
       "<tr>\n",
       "         <td></td>        <th>Parameter</th> <th>Std. Err.</th> <th>T-stat</th> <th>P-value</th> <th>Lower CI</th> <th>Upper CI</th>\n",
       "</tr>\n",
       "<tr>\n",
       "  <th>Intercept</th>       <td>69.292</td>    <td>0.3624</td>   <td>191.22</td> <td>0.0000</td>   <td>68.581</td>   <td>70.002</td> \n",
       "</tr>\n",
       "<tr>\n",
       "  <th>push_delivered</th>  <td>3.2938</td>    <td>0.7165</td>   <td>4.5974</td> <td>0.0000</td>   <td>1.8896</td>   <td>4.6981</td> \n",
       "</tr>\n",
       "</table>"
      ],
      "text/plain": [
       "<class 'statsmodels.iolib.table.SimpleTable'>"
      ]
     },
     "execution_count": 8,
     "metadata": {},
     "output_type": "execute_result"
    }
   ],
   "source": [
    "iv = IV2SLS.from_formula(\"in_app_purchase ~ 1 + [push_delivered ~ push_assigned]\", data).fit()\n",
    "iv.summary.tables[1]"
   ]
  },
  {
   "cell_type": "markdown",
   "metadata": {},
   "source": [
    "Cela montre que le résultat avec les 2SLS est bien inférieur à celui que nous avons obtenu avec les OLS : 3,29 contre 27,60. Cela a du sens, car l’effet causal estimé avec les OLS est biaisé positivement. Nous devons également nous rappeler du LATE. 3,29 est l’effet causal moyen sur les compliers. Malheureusement, nous ne pouvons rien dire sur les never takers. Cela signifie que nous estimons l’effet sur le segment plus riche de la population qui possède des téléphones plus récents.\n",
    "\n",
    "## Idées Clés\n",
    "\n",
    "Ici, nous avons examiné une vision plus moderne des Variables Instrumentales (IV). Nous avons vu comment les IV peuvent être considérées comme une chaîne causale où l’instrument cause le traitement qui cause le résultat. Dans cette perspective, nous avons examiné la conformité pour comprendre l’ATE dans l’estimation des IV et nous avons constaté qu’il s’agissait du LATE sur les compliers.\n",
    "\n",
    "## Références\n",
    "\n",
    "J'aime penser à ce livre entier comme un hommage à Joshua Angrist, Alberto Abadie et Christopher Walters pour leur incroyable cours d'économétrie. La plupart des idées ici sont tirées de leurs cours à l'American Economic Association. Les regarder est ce qui me maintient sain d'esprit pendant cette année difficile de 2020.\n",
    "* [Cross-Section Econometrics](https://www.aeaweb.org/conference/cont-ed/2017-webcasts)\n",
    "* [Mastering Mostly Harmless Econometrics](https://www.aeaweb.org/conference/cont-ed/2020-webcasts)\n",
    "\n",
    "Je tiens également à référencer les livres incroyables d'Angrist. Ils m'ont montré que l'économétrie, ou 'Metrics' comme ils l'appellent, n'est pas seulement extrêmement utile mais aussi profondément amusante.\n",
    "\n",
    "* [Mostly Harmless Econometrics](https://www.mostlyharmlesseconometrics.com/)\n",
    "* [Mastering 'Metrics](https://www.masteringmetrics.com/)\n",
    "\n",
    "Ma dernière référence est le livre de Miguel Hernan et Jamie Robins. Il a été mon compagnon fidèle dans les questions causales les plus épineuses que j'ai dû résoudre.\n",
    "\n",
    "* [Causal Inference Book](https://www.hsph.harvard.edu/miguel-hernan/causal-inference-book/)\n",
    "\n",
    "Les données utilisées ici proviennent d'une étude de Alpert, William T., Kenneth A. Couch, et Oskar R. Harmon. 2016. [\"A Randomized Assessment of Online Learning\"](https://www.aeaweb.org/articles?id=10.1257/aer.p20161057). American Economic Review, 106 (5): 378-82.\n",
    "\n",
    "![img](./data/img/poetry.png)\n",
    "\n",
    "## Contribuer\n",
    "\n",
    "*L'Inférence Causale pour les Courageux et les Vrais* est un matériel open-source sur l'inférence causale, la statistique de la science. Son objectif est d'être accessible monétairement et intellectuellement. Il utilise uniquement des logiciels gratuits basés sur Python.\n",
    "Si vous avez trouvé ce livre précieux et souhaitez le soutenir, veuillez vous rendre sur [Patreon](https://www.patreon.com/causal_inference_for_the_brave_and_true). Si vous n'êtes pas prêt à contribuer financièrement, vous pouvez également aider en corrigeant les fautes de frappe, en suggérant des modifications ou en donnant votre avis sur les passages que vous n'avez pas compris. Rendez-vous sur le repo du livre et [ouvrez une issue](https://github.com/matheusfacure/python-causality-handbook/issues). Enfin, si vous avez aimé ce contenu, veuillez le partager avec d'autres personnes qui pourraient le trouver utile et lui donner une [étoile sur GitHub](https://github.com/matheusfacure/python-causality-handbook/stargazers)."
   ]
  }
 ],
 "metadata": {
  "celltoolbar": "Tags",
  "kernelspec": {
   "display_name": "Python 3 (ipykernel)",
   "language": "python",
   "name": "python3"
  },
  "language_info": {
   "codemirror_mode": {
    "name": "ipython",
    "version": 3
   },
   "file_extension": ".py",
   "mimetype": "text/x-python",
   "name": "python",
   "nbconvert_exporter": "python",
   "pygments_lexer": "ipython3",
   "version": "3.9.7"
  }
 },
 "nbformat": 4,
 "nbformat_minor": 2
}
